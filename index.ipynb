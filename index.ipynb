{
 "cells": [
  {
   "cell_type": "markdown",
   "metadata": {},
   "source": [
    "# PCA Practice\n",
    "\n",
    "## Concepts\n",
    "\n",
    "#### Give at least two reasons why one might use PCA.  Be sure to include discussion of what problem PCA solves and how."
   ]
  },
  {
   "cell_type": "code",
   "execution_count": null,
   "metadata": {},
   "outputs": [],
   "source": [
    "#Your answers here\n",
    "\"\"\"\n",
    "If you want to reduce dimensionality, you use PCA (reduce dimensionality enough to get similar results \n",
    "as using all the features)\n",
    "\n",
    "PCA gets rid of multicolinearity.\n",
    "\"\"\""
   ]
  },
  {
   "cell_type": "code",
   "execution_count": 1,
   "metadata": {},
   "outputs": [],
   "source": [
    "# Run as-is\n",
    "from sklearn.datasets import make_classification\n",
    "from sklearn.pipeline import Pipeline\n",
    "from sklearn.decomposition import PCA\n",
    "from sklearn.linear_model import LogisticRegression\n",
    "from sklearn.model_selection import train_test_split\n",
    "from sklearn.metrics import f1_score\n",
    "from sklearn.model_selection import cross_validate\n",
    "from sklearn.preprocessing import StandardScaler\n",
    "import matplotlib.pyplot as plt\n",
    "import numpy as np\n",
    "\n",
    "%matplotlib inline\n",
    "import pickle as pkl\n",
    "\n",
    "with open('test_obj/X.pkl', 'rb') as f:\n",
    "    X = pkl.load(f)\n",
    "\n",
    "with open('test_obj/y.pkl', 'rb') as f:\n",
    "    y = pkl.load(f)  \n",
    "\n",
    "from test_scripts.test_class import Test\n",
    "test = Test()"
   ]
  },
  {
   "cell_type": "markdown",
   "metadata": {},
   "source": []
  },
  {
   "cell_type": "markdown",
   "metadata": {},
   "source": [
    "## Application\n",
    "\n",
    "### Data Exploration\n",
    "\n",
    "- Turn `X` (a np array of features) into a dataframe.  \n",
    "    - How many features are there? \n",
    "    - How many observations are there?\n",
    "\n",
    "- Turn `y` (a np array of the target) into a df.\n",
    "    - Are the observations in y continuous or discreet?\n",
    "    - Would prediction of y be a regression or classification problem?"
   ]
  },
  {
   "cell_type": "code",
   "execution_count": 23,
   "metadata": {},
   "outputs": [
    {
     "data": {
      "text/plain": [
       "(10000, 200)"
      ]
     },
     "execution_count": 23,
     "metadata": {},
     "output_type": "execute_result"
    }
   ],
   "source": [
    "# your work here\n",
    "import pandas as pd\n",
    "\n",
    "X = pd.DataFrame(X)\n",
    "y = pd.DataFrame(y)\n",
    "\n",
    "X.shape"
   ]
  },
  {
   "cell_type": "code",
   "execution_count": 24,
   "metadata": {},
   "outputs": [
    {
     "name": "stdout",
     "output_type": "stream",
     "text": [
      "# of Features: 200\n",
      "# of Observations: 10000\n"
     ]
    }
   ],
   "source": [
    "print(f'# of Features: {X.shape[1]}')\n",
    "print(f'# of Observations: {X.shape[0]}')"
   ]
  },
  {
   "cell_type": "code",
   "execution_count": 18,
   "metadata": {},
   "outputs": [
    {
     "data": {
      "text/plain": [
       "array([0, 1], dtype=int64)"
      ]
     },
     "execution_count": 18,
     "metadata": {},
     "output_type": "execute_result"
    }
   ],
   "source": [
    "y[0].unique()"
   ]
  },
  {
   "cell_type": "code",
   "execution_count": 20,
   "metadata": {},
   "outputs": [],
   "source": [
    "# y is discret\n",
    "# classification"
   ]
  },
  {
   "cell_type": "markdown",
   "metadata": {},
   "source": [
    "### PCA Exploration\n",
    "\n",
    "#### Run the following steps\n",
    "- Train Test Split, `random_state` = 1\n",
    "\n",
    "- Scale w/ StandardScaler\n",
    "\n",
    "- For the full PCA transformation (ie, w/o specifying `n_components` number)\n",
    "on `X_train`, store the explained variance ratio for each component \n",
    "in `evr`\n",
    "\n",
    "- Graph `evr`\n",
    "\n",
    "- Re-graph the first few components in order to focus on them (you'll see why)\n",
    "\n",
    "How many principal components does it look like we should choose?"
   ]
  },
  {
   "cell_type": "code",
   "execution_count": 6,
   "metadata": {},
   "outputs": [],
   "source": [
    "#Your work here\n",
    "X_train, X_test, y_train, y_test = train_test_split(X, y, random_state=1)"
   ]
  },
  {
   "cell_type": "code",
   "execution_count": 7,
   "metadata": {},
   "outputs": [],
   "source": [
    "ss = StandardScaler()\n",
    "X_train_scaled = ss.fit_transform(X_train)"
   ]
  },
  {
   "cell_type": "code",
   "execution_count": 25,
   "metadata": {},
   "outputs": [],
   "source": [
    "pca = PCA()\n",
    "X_train_pca = pca.fit_transform(X_train_scaled)"
   ]
  },
  {
   "cell_type": "code",
   "execution_count": 26,
   "metadata": {
    "scrolled": true
   },
   "outputs": [
    {
     "data": {
      "text/plain": [
       "array([1.56178567e-02, 1.35534066e-02, 1.20208922e-02, 9.68228404e-03,\n",
       "       8.55928752e-03, 6.89396024e-03, 6.62468903e-03, 6.59802224e-03,\n",
       "       6.56557124e-03, 6.50142362e-03, 6.45835788e-03, 6.43613267e-03,\n",
       "       6.41137914e-03, 6.39310368e-03, 6.35646590e-03, 6.32928320e-03,\n",
       "       6.32004944e-03, 6.27071955e-03, 6.23674981e-03, 6.22895225e-03,\n",
       "       6.18636128e-03, 6.16298948e-03, 6.15108933e-03, 6.14465353e-03,\n",
       "       6.13074245e-03, 6.07427761e-03, 6.05770700e-03, 6.04406033e-03,\n",
       "       6.03369450e-03, 6.00723833e-03, 5.99626311e-03, 5.96081732e-03,\n",
       "       5.93048706e-03, 5.90868512e-03, 5.89904272e-03, 5.89624642e-03,\n",
       "       5.87600137e-03, 5.87047987e-03, 5.85071002e-03, 5.83029831e-03,\n",
       "       5.80419492e-03, 5.77786869e-03, 5.76093287e-03, 5.75349634e-03,\n",
       "       5.72898333e-03, 5.72038169e-03, 5.70015984e-03, 5.66751819e-03,\n",
       "       5.65842397e-03, 5.64936694e-03, 5.64157610e-03, 5.61077344e-03,\n",
       "       5.59465408e-03, 5.58266796e-03, 5.56968627e-03, 5.54746633e-03,\n",
       "       5.52880441e-03, 5.52032815e-03, 5.50350239e-03, 5.48758199e-03,\n",
       "       5.47375586e-03, 5.47136489e-03, 5.46001610e-03, 5.44215183e-03,\n",
       "       5.42360095e-03, 5.41396066e-03, 5.37910655e-03, 5.37079321e-03,\n",
       "       5.36517139e-03, 5.35206274e-03, 5.33571649e-03, 5.33098950e-03,\n",
       "       5.31079778e-03, 5.30715050e-03, 5.29252900e-03, 5.27541674e-03,\n",
       "       5.25839660e-03, 5.24562286e-03, 5.23811565e-03, 5.22732898e-03,\n",
       "       5.19726700e-03, 5.18059101e-03, 5.16928439e-03, 5.15378514e-03,\n",
       "       5.12520656e-03, 5.12287874e-03, 5.11874309e-03, 5.11073599e-03,\n",
       "       5.09268065e-03, 5.07730592e-03, 5.06529530e-03, 5.04821619e-03,\n",
       "       5.04459907e-03, 5.02936678e-03, 5.00321823e-03, 4.98762835e-03,\n",
       "       4.97824498e-03, 4.97784131e-03, 4.96079752e-03, 4.95034209e-03,\n",
       "       4.94391162e-03, 4.89893112e-03, 4.89467180e-03, 4.87288557e-03,\n",
       "       4.86885466e-03, 4.85173878e-03, 4.84769383e-03, 4.84023487e-03,\n",
       "       4.80709920e-03, 4.79596573e-03, 4.78235036e-03, 4.77339080e-03,\n",
       "       4.76413750e-03, 4.74726074e-03, 4.74427719e-03, 4.71573454e-03,\n",
       "       4.70468502e-03, 4.69380953e-03, 4.68114155e-03, 4.66341489e-03,\n",
       "       4.65521510e-03, 4.63259332e-03, 4.62772210e-03, 4.61351045e-03,\n",
       "       4.60626366e-03, 4.58987462e-03, 4.58072458e-03, 4.56658659e-03,\n",
       "       4.55759397e-03, 4.55309035e-03, 4.54760822e-03, 4.52864431e-03,\n",
       "       4.50439368e-03, 4.49222860e-03, 4.48319169e-03, 4.46540698e-03,\n",
       "       4.45368283e-03, 4.43787727e-03, 4.41838658e-03, 4.41662465e-03,\n",
       "       4.39575616e-03, 4.38188313e-03, 4.37321500e-03, 4.35146678e-03,\n",
       "       4.34757699e-03, 4.33453324e-03, 4.32660693e-03, 4.31243578e-03,\n",
       "       4.29654235e-03, 4.28557844e-03, 4.28241205e-03, 4.23796196e-03,\n",
       "       4.23311903e-03, 4.22512783e-03, 4.20651875e-03, 4.17510705e-03,\n",
       "       4.15530993e-03, 4.14881719e-03, 4.13193391e-03, 4.12766451e-03,\n",
       "       4.11318968e-03, 4.09698772e-03, 4.08261443e-03, 4.07371718e-03,\n",
       "       4.04529972e-03, 4.03637207e-03, 4.02352856e-03, 4.00981301e-03,\n",
       "       3.99646019e-03, 3.96404708e-03, 3.95185924e-03, 3.94296684e-03,\n",
       "       3.92854936e-03, 3.92188353e-03, 3.91117936e-03, 3.87339881e-03,\n",
       "       3.85956897e-03, 3.83591274e-03, 3.81160027e-03, 3.78875921e-03,\n",
       "       3.78209722e-03, 3.76150999e-03, 3.75158214e-03, 3.70884966e-03,\n",
       "       3.69244403e-03, 3.67084146e-03, 3.66281061e-03, 3.59946197e-03,\n",
       "       3.54284086e-03, 3.50379152e-03, 3.32481922e-03, 3.05849673e-03,\n",
       "       2.74400227e-03, 2.25300702e-03, 1.86814746e-03, 1.60773735e-03,\n",
       "       3.17840164e-33, 7.79647640e-34, 4.65826879e-34, 2.49313425e-34])"
      ]
     },
     "execution_count": 26,
     "metadata": {},
     "output_type": "execute_result"
    }
   ],
   "source": [
    "evr = pca.explained_variance_ratio_\n",
    "evr"
   ]
  },
  {
   "cell_type": "code",
   "execution_count": 12,
   "metadata": {},
   "outputs": [
    {
     "data": {
      "image/png": "[encoded data removed]",
      "text/plain": [
       "<Figure size 432x288 with 1 Axes>"
      ]
     },
     "metadata": {
      "needs_background": "light"
     },
     "output_type": "display_data"
    }
   ],
   "source": [
    "plt.plot(evr);"
   ]
  },
  {
   "cell_type": "code",
   "execution_count": 27,
   "metadata": {},
   "outputs": [
    {
     "data": {
      "image/png": "[encoded data removed]",
      "text/plain": [
       "<Figure size 432x288 with 1 Axes>"
      ]
     },
     "metadata": {
      "needs_background": "light"
     },
     "output_type": "display_data"
    }
   ],
   "source": [
    "plt.plot(evr[:20]);"
   ]
  },
  {
   "cell_type": "markdown",
   "metadata": {},
   "source": [
    "### Calculate Train and Test Error\n",
    "\n",
    "#### Run the following:\n",
    "- for the first 50 principal components,\n",
    "  - scale the data\n",
    "  - generate the number of principal components and transform them into features\n",
    "  - Using Logistic Regression with default inputs, generate train and test predictions through 10-fold cross validation\n",
    "    - *Hint:* use `sklearn.cross_validate`\n",
    "    - *Level up:* ideally, you would scale and PCA on each training fold (why?).  Use a pipeline!\n",
    "  - graph the means of the train and test predictions for each number of principal component\n",
    "\n",
    "#### Interpret the graph  \n",
    "- How many principle components should we choose based on this?\n",
    "- Is overfitting or underfitting a problem?\n",
    "\n",
    "#### Level up\n",
    "- Repeat the above but don't scale the data.  Intepret the results."
   ]
  },
  {
   "cell_type": "code",
   "execution_count": null,
   "metadata": {},
   "outputs": [],
   "source": [
    "#Your work here\n",
    "for i in range(1,51):\n",
    "    ss = StandardScaler()\n",
    "    scaled = ss.fit_transform(X_train)\n",
    "    \n",
    "    pca = PCA(n_components=i)\n",
    "    pca_scaled = pca.fit_transform(X_train)\n",
    "    \n",
    "    lr = LogisticRegression(random_state=42)\n",
    "    \n",
    "    cross_validate(lr, pca_scaled, y_train)"
   ]
  },
  {
   "cell_type": "code",
   "execution_count": null,
   "metadata": {},
   "outputs": [],
   "source": []
  }
 ],
 "metadata": {
  "kernelspec": {
   "display_name": "Python (learn-env)",
   "language": "python",
   "name": "learn-env"
  },
  "language_info": {
   "codemirror_mode": {
    "name": "ipython",
    "version": 3
   },
   "file_extension": ".py",
   "mimetype": "text/x-python",
   "name": "python",
   "nbconvert_exporter": "python",
   "pygments_lexer": "ipython3",
   "version": "3.8.5"
  },
  "toc": {
   "base_numbering": 1,
   "nav_menu": {},
   "number_sections": false,
   "sideBar": true,
   "skip_h1_title": true,
   "title_cell": "Table of Contents",
   "title_sidebar": "Contents",
   "toc_cell": false,
   "toc_position": {},
   "toc_section_display": true,
   "toc_window_display": false
  },
  "varInspector": {
   "cols": {
    "lenName": 16,
    "lenType": 16,
    "lenVar": 40
   },
   "kernels_config": {
    "python": {
     "delete_cmd_postfix": "",
     "delete_cmd_prefix": "del ",
     "library": "var_list.py",
     "varRefreshCmd": "print(var_dic_list())"
    },
    "r": {
     "delete_cmd_postfix": ") ",
     "delete_cmd_prefix": "rm(",
     "library": "var_list.r",
     "varRefreshCmd": "cat(var_dic_list()) "
    }
   },
   "types_to_exclude": [
    "module",
    "function",
    "builtin_function_or_method",
    "instance",
    "_Feature"
   ],
   "window_display": false
  }
 },
 "nbformat": 4,
 "nbformat_minor": 4
}
